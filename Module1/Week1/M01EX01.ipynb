{
 "cells": [
  {
   "cell_type": "markdown",
   "metadata": {},
   "source": [
    "### Câu hỏi 1"
   ]
  },
  {
   "cell_type": "code",
   "execution_count": 3,
   "metadata": {},
   "outputs": [],
   "source": [
    "import math\n",
    "def calc_f1_score(tp,fp,fn):\n",
    "    precision = tp/(tp+fp)\n",
    "    recal = tp/(tp+fn)\n",
    "    f1 = 2 * (precision*recal)/(precision+recal)\n",
    "    return f1\n"
   ]
  },
  {
   "cell_type": "code",
   "execution_count": 4,
   "metadata": {},
   "outputs": [
    {
     "name": "stdout",
     "output_type": "stream",
     "text": [
      "0.33\n"
     ]
    }
   ],
   "source": [
    "assert round(calc_f1_score(tp=2,fp=3, fn = 5),2) == 0.33\n",
    "print(round(calc_f1_score(tp=2,fp=3, fn = 5),2))"
   ]
  },
  {
   "cell_type": "markdown",
   "metadata": {},
   "source": [
    "### Câu hỏi 2"
   ]
  },
  {
   "cell_type": "code",
   "execution_count": 4,
   "metadata": {},
   "outputs": [
    {
     "name": "stdout",
     "output_type": "stream",
     "text": [
      "True\n",
      "False\n"
     ]
    }
   ],
   "source": [
    "import math\n",
    "def is_number(n):\n",
    "    try:\n",
    "        float(n)\n",
    "        return True\n",
    "    except ValueError:\n",
    "        return False\n",
    "assert is_number(3) == 1.0\n",
    "assert is_number('-2a') == 0\n",
    "print(is_number(1))\n",
    "print(is_number('n'))"
   ]
  },
  {
   "cell_type": "markdown",
   "metadata": {},
   "source": [
    "### Câu hỏi 3"
   ]
  },
  {
   "cell_type": "code",
   "execution_count": 24,
   "metadata": {},
   "outputs": [
    {
     "name": "stdout",
     "output_type": "stream",
     "text": [
      "0.0\n"
     ]
    }
   ],
   "source": [
    "x = -2.0\n",
    "if x<=0:\n",
    "    y =0.0\n",
    "else:\n",
    "    y = x\n",
    "print(y)"
   ]
  },
  {
   "cell_type": "markdown",
   "metadata": {},
   "source": [
    "### Câu hỏi 4"
   ]
  },
  {
   "cell_type": "code",
   "execution_count": 23,
   "metadata": {},
   "outputs": [
    {
     "name": "stdout",
     "output_type": "stream",
     "text": [
      "0.88\n"
     ]
    }
   ],
   "source": [
    "import math\n",
    "def cal_sig(x):\n",
    "    return 1/(1+ math.exp(-x))\n",
    "assert round(cal_sig(3),2)==0.95\n",
    "print(round(cal_sig(2),2))"
   ]
  },
  {
   "cell_type": "markdown",
   "metadata": {},
   "source": [
    "### Câu hỏi 5"
   ]
  },
  {
   "cell_type": "code",
   "execution_count": 18,
   "metadata": {},
   "outputs": [
    {
     "name": "stdout",
     "output_type": "stream",
     "text": [
      "-0.01\n"
     ]
    }
   ],
   "source": [
    "import math\n",
    "def cal_elu(x, alpha=0.01):\n",
    "    if x >= 0:\n",
    "        return x\n",
    "    else:\n",
    "        return alpha * (math.exp(x) - 1)\n",
    "assert round(cal_elu(1))==1\n",
    "print(round(cal_elu(-1),2))"
   ]
  },
  {
   "cell_type": "markdown",
   "metadata": {},
   "source": [
    "### Câu hỏi 6"
   ]
  },
  {
   "cell_type": "code",
   "execution_count": 25,
   "metadata": {},
   "outputs": [
    {
     "name": "stdout",
     "output_type": "stream",
     "text": [
      "0.95\n"
     ]
    }
   ],
   "source": [
    "import math\n",
    "\n",
    "def cal_activation_func(x, act_name):\n",
    "    if act_name == 'sigmoid':\n",
    "        return 1 / (1 + math.exp(-x))\n",
    "    elif act_name == 'relu':\n",
    "        return max(0, x)\n",
    "    elif act_name == 'elu':\n",
    "        alpha = 1  \n",
    "        if x >= 0:\n",
    "            return x\n",
    "        else:\n",
    "            return alpha * (math.exp(x) - 1)\n",
    "    else:\n",
    "        raise ValueError(\"Hàm kích hoạt không hợp lệ. Chỉ hỗ trợ 'sigmoid', 'relu' và 'elu'.\")\n",
    "print(round(cal_activation_func(x=3, act_name = 'sigmoid'),2))"
   ]
  },
  {
   "cell_type": "markdown",
   "metadata": {},
   "source": [
    "### Câu hỏi 7"
   ]
  },
  {
   "cell_type": "code",
   "execution_count": 26,
   "metadata": {},
   "outputs": [
    {
     "name": "stdout",
     "output_type": "stream",
     "text": [
      "7\n"
     ]
    }
   ],
   "source": [
    "def calc_ae(y, y_hat):\n",
    "    absolute_error = abs(y - y_hat)\n",
    "    return absolute_error\n",
    "y = 1\n",
    "y_hat = 6\n",
    "assert calc_ae(y,y_hat)==5\n",
    "y = 2\n",
    "y_hat = 9\n",
    "print(calc_ae(y,y_hat))"
   ]
  },
  {
   "cell_type": "markdown",
   "metadata": {},
   "source": [
    "### Câu hỏi 8"
   ]
  },
  {
   "cell_type": "code",
   "execution_count": 27,
   "metadata": {},
   "outputs": [
    {
     "name": "stdout",
     "output_type": "stream",
     "text": [
      "1\n"
     ]
    }
   ],
   "source": [
    "def calc_ae(y, y_hat):\n",
    "    absolute_error = abs(y - y_hat) \n",
    "    return absolute_error ** 2\n",
    "y = 4\n",
    "y_hat = 2\n",
    "assert calc_ae(y,y_hat)==4\n",
    "y = 2\n",
    "y_hat = 1\n",
    "print(calc_ae(y,y_hat))"
   ]
  },
  {
   "cell_type": "markdown",
   "metadata": {},
   "source": [
    "### Câu hỏi 9"
   ]
  },
  {
   "cell_type": "code",
   "execution_count": 29,
   "metadata": {},
   "outputs": [
    {
     "name": "stdout",
     "output_type": "stream",
     "text": [
      "-1.0\n"
     ]
    }
   ],
   "source": [
    "import math\n",
    "\n",
    "def approx_cos(x, n):\n",
    "    result = 0\n",
    "    for i in range(n):\n",
    "        coeff = (-1) ** i\n",
    "        num = x ** (2 * i)\n",
    "        denom = math.factorial(2 * i)\n",
    "        term = coeff * (num / denom)\n",
    "        result += term\n",
    "    return result\n",
    "assert round(approx_cos(x=1,n =10),2) == 0.54\n",
    "print(round(approx_cos(x=3.14,n=10),2))"
   ]
  },
  {
   "cell_type": "markdown",
   "metadata": {},
   "source": [
    "### Câu hỏi 10"
   ]
  },
  {
   "cell_type": "code",
   "execution_count": 33,
   "metadata": {},
   "outputs": [
    {
     "name": "stdout",
     "output_type": "stream",
     "text": [
      "0.0016\n"
     ]
    }
   ],
   "source": [
    "import math\n",
    "\n",
    "def approx_sin(x, n):\n",
    "    result = 0\n",
    "    for i in range(n):\n",
    "        coeff = (-1) ** i\n",
    "        num = x ** (2 * i + 1)\n",
    "        denom = math.factorial(2 * i + 1)\n",
    "        term = coeff * (num / denom)\n",
    "        result += term\n",
    "    return result\n",
    "assert round(approx_sin(x=1,n =10),4) == 0.8415\n",
    "print(round(approx_sin(x=3.14,n=10),4))"
   ]
  },
  {
   "cell_type": "markdown",
   "metadata": {},
   "source": [
    "### Câu hỏi 11"
   ]
  },
  {
   "cell_type": "code",
   "execution_count": 37,
   "metadata": {},
   "outputs": [
    {
     "name": "stdout",
     "output_type": "stream",
     "text": [
      "11.53\n"
     ]
    }
   ],
   "source": [
    "import math\n",
    "\n",
    "def approx_sinh(x, n):\n",
    "    result = 0\n",
    "    for i in range(n):\n",
    "        num = x ** (2 * i + 1)\n",
    "        denom = math.factorial(2 * i + 1)\n",
    "        term = (num / denom)\n",
    "        result += term\n",
    "    return result\n",
    "\n",
    "assert round(approx_sinh(x=1,n =10),2) == 1.18\n",
    "print(round(approx_sinh(x=3.14,n=10),2))"
   ]
  },
  {
   "cell_type": "markdown",
   "metadata": {},
   "source": [
    "### Câu hỏi 12"
   ]
  },
  {
   "cell_type": "code",
   "execution_count": 38,
   "metadata": {},
   "outputs": [
    {
     "name": "stdout",
     "output_type": "stream",
     "text": [
      "11.57\n"
     ]
    }
   ],
   "source": [
    "import math\n",
    "\n",
    "def approx_cosh(x, n):\n",
    "    result = 0\n",
    "    for i in range(n):\n",
    "        num = x ** (2 * i)\n",
    "        denom = math.factorial(2 * i)\n",
    "        term = (num / denom)\n",
    "        result += term\n",
    "    return result\n",
    "assert round(approx_cosh(x=1,n =10),2) == 1.54\n",
    "print(round(approx_cosh(x=3.14,n=10),2))\n"
   ]
  }
 ],
 "metadata": {
  "kernelspec": {
   "display_name": "Python 3",
   "language": "python",
   "name": "python3"
  },
  "language_info": {
   "codemirror_mode": {
    "name": "ipython",
    "version": 3
   },
   "file_extension": ".py",
   "mimetype": "text/x-python",
   "name": "python",
   "nbconvert_exporter": "python",
   "pygments_lexer": "ipython3",
   "version": "3.12.2"
  }
 },
 "nbformat": 4,
 "nbformat_minor": 2
}
