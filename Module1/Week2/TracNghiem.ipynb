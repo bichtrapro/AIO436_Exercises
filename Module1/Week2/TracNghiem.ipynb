{
 "cells": [
  {
   "cell_type": "code",
   "execution_count": null,
   "metadata": {},
   "outputs": [],
   "source": [
    "def max_kernel(num_list,k):\n",
    "    result = []\n",
    "    n = len(num_list)\n",
    "    if n * k == 0:\n",
    "        return []\n",
    "\n",
    "    for i in range(n - k + 1):\n",
    "        window_max = max(num_list[i:i + k])\n",
    "        result.append(window_max)\n",
    "\n",
    "    return result\n",
    "assert max_kernel([3 , 4 , 5 , 1 , -44] , 3) == [5, 5, 5]\n",
    "num_list = [3, 4, 5, 1, -44 , 5 ,10, 12 ,33, 1]\n",
    "k = 3\n",
    "print ( max_kernel (num_list , k))"
   ]
  },
  {
   "cell_type": "markdown",
   "metadata": {},
   "source": []
  },
  {
   "cell_type": "code",
   "execution_count": null,
   "metadata": {},
   "outputs": [],
   "source": []
  }
 ],
 "metadata": {
  "language_info": {
   "name": "python"
  }
 },
 "nbformat": 4,
 "nbformat_minor": 2
}
